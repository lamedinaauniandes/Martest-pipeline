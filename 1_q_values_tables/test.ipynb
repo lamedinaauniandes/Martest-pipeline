{
 "cells": [
  {
   "cell_type": "code",
   "execution_count": 71,
   "id": "7a9a33db",
   "metadata": {},
   "outputs": [
    {
     "name": "stdout",
     "output_type": "stream",
     "text": [
      "['a', 'b', 'c', 'd', 'a']\n"
     ]
    }
   ],
   "source": [
    "import re\n",
    "# text = 'a 1 -2.03 b 1 2.03 c 0 2.33 d 1 1.07 a 1 -3.07\\n b 1 1.0 b 1 1.037 c 0 1.07 a 1 2.07 b 1 -2.07 \\n c 1 -2.17 b 1 2.07 c 1 1.07\\n'\n",
    "text = 'a 1 -2.03 b 1 2.03 c 0 2.33 d 1 1.07 a 1 -3.07'\n",
    "all_states = re.findall(r'[a-z]',text)\n",
    "print(all_states)"
   ]
  },
  {
   "cell_type": "code",
   "execution_count": 2,
   "id": "1a3a42f4",
   "metadata": {},
   "outputs": [
    {
     "name": "stdout",
     "output_type": "stream",
     "text": [
      "['c', 'a', 'd', 'b']\n"
     ]
    }
   ],
   "source": [
    "unique_states = list(set(all_states))\n",
    "print(unique_states)"
   ]
  },
  {
   "cell_type": "code",
   "execution_count": 120,
   "id": "d9571230",
   "metadata": {},
   "outputs": [
    {
     "name": "stdout",
     "output_type": "stream",
     "text": [
      "['a 1 -2.03', 'b 1 2.03', 'c 0 2.33', 'd 1 1.07', 'a 1 -3.07']\n",
      "a 1 -2.03 b 1 2.03 c 0 2.33 d 1 1.07 a 1 -3.07\n",
      "b 1 2.03 c 0 2.33 d 1 1.07 a 1 -3.07\n",
      "c 0 2.33 d 1 1.07 a 1 -3.07\n",
      "d 1 1.07 a 1 -3.07\n",
      "a 1 -3.07\n"
     ]
    }
   ],
   "source": [
    "import re\n",
    "\n",
    "text = 'a 1 -2.03 b 1 2.03 c 0 2.33 d 1 1.07 a 1 -3.07'\n",
    "\n",
    "# Encontrar todas las coincidencias letra + número + número\n",
    "pattern = r\"[a-zA-Z]\\s+\\d+\\s+-?\\d+\\.\\d+\"\n",
    "matches = re.findall(pattern, text)\n",
    "print(matches)\n",
    "# Generar las subcadenas desde cada punto hacia adelante\n",
    "subchains = [' '.join(matches[i:]) for i in range(len(matches))]\n",
    "\n",
    "# Mostrar resultados\n",
    "for chain in subchains:\n",
    "    print(chain)"
   ]
  },
  {
   "cell_type": "code",
   "execution_count": 158,
   "id": "8c4619be",
   "metadata": {},
   "outputs": [
    {
     "name": "stdout",
     "output_type": "stream",
     "text": [
      "['a 1 -2.03 b 1', ' c 0 2.33 d 1']\n"
     ]
    },
    {
     "ename": "TypeError",
     "evalue": "sub() missing required argument 'string' (pos 2)",
     "output_type": "error",
     "traceback": [
      "\u001b[0;31m---------------------------------------------------------------------------\u001b[0m",
      "\u001b[0;31mTypeError\u001b[0m                                 Traceback (most recent call last)",
      "Cell \u001b[0;32mIn[158], line 4\u001b[0m\n\u001b[1;32m      2\u001b[0m state_action_pattern \u001b[38;5;241m=\u001b[39m re\u001b[38;5;241m.\u001b[39mcompile(\u001b[38;5;124mr\u001b[39m\u001b[38;5;124m'\u001b[39m\u001b[38;5;124m( *[a-z] +\u001b[39m\u001b[38;5;124m\\\u001b[39m\u001b[38;5;124md +-?\u001b[39m\u001b[38;5;124m\\\u001b[39m\u001b[38;5;124md\u001b[39m\u001b[38;5;124m\\\u001b[39m\u001b[38;5;124m.\u001b[39m\u001b[38;5;124m\\\u001b[39m\u001b[38;5;124md+ \u001b[39m\u001b[38;5;124m\\\u001b[39m\u001b[38;5;124mw *\u001b[39m\u001b[38;5;124m\\\u001b[39m\u001b[38;5;124md)\u001b[39m\u001b[38;5;124m'\u001b[39m)\n\u001b[1;32m      3\u001b[0m \u001b[38;5;28mprint\u001b[39m(state_action_pattern\u001b[38;5;241m.\u001b[39mfindall(text))\n\u001b[0;32m----> 4\u001b[0m \u001b[38;5;28mprint\u001b[39m(\u001b[43mstate_action_pattern\u001b[49m\u001b[38;5;241;43m.\u001b[39;49m\u001b[43msub\u001b[49m\u001b[43m(\u001b[49m\u001b[43mtext\u001b[49m\u001b[43m)\u001b[49m)\n\u001b[1;32m      5\u001b[0m \u001b[38;5;28;01mfor\u001b[39;00m match \u001b[38;5;129;01min\u001b[39;00m state_action_pattern\u001b[38;5;241m.\u001b[39mfinditer(text):\n\u001b[1;32m      6\u001b[0m     \u001b[38;5;28mprint\u001b[39m(match\u001b[38;5;241m.\u001b[39mgroups())\n",
      "\u001b[0;31mTypeError\u001b[0m: sub() missing required argument 'string' (pos 2)"
     ]
    }
   ],
   "source": [
    "float_pattern = re.compile(r'\\d.\\d')\n",
    "state_action_pattern = re.compile(r'( *[a-z] +\\d +-?\\d\\.\\d+ \\w *\\d)')\n",
    "print(state_action_pattern.findall(text))\n",
    "print(state_action_pattern.(text))\n",
    "for match in state_action_pattern.finditer(text):\n",
    "    print(match.groups())"
   ]
  },
  {
   "cell_type": "code",
   "execution_count": 79,
   "id": "f9b0cfe9",
   "metadata": {},
   "outputs": [
    {
     "name": "stdout",
     "output_type": "stream",
     "text": [
      "('a', '1', '3.0')\n"
     ]
    }
   ],
   "source": [
    "state_action_pattern = re.compile(r'([a-z]).+(\\d).+(-?\\d\\.\\d)')\n",
    "\n",
    "for match in state_action_pattern.finditer(text):\n",
    "    print(match.groups())"
   ]
  },
  {
   "cell_type": "code",
   "execution_count": 63,
   "id": "1e0dfcde",
   "metadata": {},
   "outputs": [
    {
     "name": "stdout",
     "output_type": "stream",
     "text": [
      "[('a', 3), ('b', 2), ('c', 1)]\n"
     ]
    }
   ],
   "source": [
    "import re\n",
    "\n",
    "secuencia = \"a 1 b 1  c 1 a 2 b 1\" # Ejemplo con más repeticiones\n",
    "\n",
    "resultados = {}\n",
    "partes = re.findall(r'([a-z]) +(\\d+)', secuencia)\n",
    "\n",
    "for letra, numero_str in partes:\n",
    "    numero = int(numero_str)\n",
    "    if letra in resultados:\n",
    "        resultados[letra] += numero\n",
    "    else:\n",
    "        resultados[letra] = numero\n",
    "\n",
    "resultado_formateado = [(letra, suma) for letra, suma in resultados.items()]\n",
    "print(resultado_formateado)"
   ]
  },
  {
   "cell_type": "code",
   "execution_count": 35,
   "id": "7c72f06f",
   "metadata": {},
   "outputs": [
    {
     "data": {
      "text/html": [
       "<div>\n",
       "<style scoped>\n",
       "    .dataframe tbody tr th:only-of-type {\n",
       "        vertical-align: middle;\n",
       "    }\n",
       "\n",
       "    .dataframe tbody tr th {\n",
       "        vertical-align: top;\n",
       "    }\n",
       "\n",
       "    .dataframe thead th {\n",
       "        text-align: right;\n",
       "    }\n",
       "</style>\n",
       "<table border=\"1\" class=\"dataframe\">\n",
       "  <thead>\n",
       "    <tr style=\"text-align: right;\">\n",
       "      <th></th>\n",
       "      <th>0</th>\n",
       "      <th>1</th>\n",
       "    </tr>\n",
       "  </thead>\n",
       "  <tbody>\n",
       "    <tr>\n",
       "      <th>b</th>\n",
       "      <td>0.0</td>\n",
       "      <td>0.0</td>\n",
       "    </tr>\n",
       "    <tr>\n",
       "      <th>c</th>\n",
       "      <td>0.0</td>\n",
       "      <td>0.0</td>\n",
       "    </tr>\n",
       "    <tr>\n",
       "      <th>a</th>\n",
       "      <td>0.0</td>\n",
       "      <td>0.0</td>\n",
       "    </tr>\n",
       "    <tr>\n",
       "      <th>d</th>\n",
       "      <td>0.0</td>\n",
       "      <td>0.0</td>\n",
       "    </tr>\n",
       "  </tbody>\n",
       "</table>\n",
       "</div>"
      ],
      "text/plain": [
       "     0    1\n",
       "b  0.0  0.0\n",
       "c  0.0  0.0\n",
       "a  0.0  0.0\n",
       "d  0.0  0.0"
      ]
     },
     "execution_count": 35,
     "metadata": {},
     "output_type": "execute_result"
    }
   ],
   "source": [
    "import pandas as pd\n",
    "q_values_df = pd.DataFrame(0.0, index=unique_states, columns=[0,1])\n",
    "q_values_df"
   ]
  },
  {
   "cell_type": "code",
   "execution_count": 39,
   "id": "7bb52c6d",
   "metadata": {},
   "outputs": [
    {
     "name": "stdout",
     "output_type": "stream",
     "text": [
      "b ||||| 0.0\n"
     ]
    }
   ],
   "source": [
    "print(q_values_df.index[0],'|||||',q_values_df.loc['b'][1])"
   ]
  },
  {
   "cell_type": "code",
   "execution_count": 164,
   "id": "733f9474",
   "metadata": {},
   "outputs": [
    {
     "name": "stdout",
     "output_type": "stream",
     "text": [
      "0 1 [1, 2, 3, 4, 5, 6] 21\n",
      "1 2 [2, 3, 4, 5, 6] 20\n",
      "2 3 [3, 4, 5, 6] 18\n",
      "3 4 [4, 5, 6] 15\n",
      "4 5 [5, 6] 11\n",
      "5 6 [6] 6\n"
     ]
    }
   ],
   "source": [
    "lista = [1,2,3,4,5,6]\n",
    "for i,e in enumerate(lista):\n",
    "    rewards = [x for x in lista[i:]]\n",
    "    q_value = sum(rewards)\n",
    "    print(i,e,rewards,q_value)"
   ]
  },
  {
   "cell_type": "code",
   "execution_count": 166,
   "id": "b1be2a65",
   "metadata": {},
   "outputs": [
    {
     "data": {
      "text/plain": [
       "2"
      ]
     },
     "execution_count": 166,
     "metadata": {},
     "output_type": "execute_result"
    }
   ],
   "source": [
    "a = (1,2,3)\n",
    "a[1]"
   ]
  }
 ],
 "metadata": {
  "kernelspec": {
   "display_name": "env",
   "language": "python",
   "name": "python3"
  },
  "language_info": {
   "codemirror_mode": {
    "name": "ipython",
    "version": 3
   },
   "file_extension": ".py",
   "mimetype": "text/x-python",
   "name": "python",
   "nbconvert_exporter": "python",
   "pygments_lexer": "ipython3",
   "version": "3.10.12"
  }
 },
 "nbformat": 4,
 "nbformat_minor": 5
}
