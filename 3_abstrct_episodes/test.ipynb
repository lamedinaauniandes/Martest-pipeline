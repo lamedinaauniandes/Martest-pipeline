{
 "cells": [
  {
   "cell_type": "code",
   "execution_count": 6,
   "id": "82142bab",
   "metadata": {},
   "outputs": [],
   "source": [
    "dic = {'a': [1,2,3,5], 'b':[1,2,3,4], 'c': [6,7,8,9]}"
   ]
  },
  {
   "cell_type": "code",
   "execution_count": 8,
   "id": "f143194f",
   "metadata": {},
   "outputs": [
    {
     "name": "stdout",
     "output_type": "stream",
     "text": [
      "0 a [1, 2, 3, 5]\n",
      "1 b [1, 2, 3, 4]\n",
      "acá está\n"
     ]
    }
   ],
   "source": [
    "for idx,(key,value) in enumerate(dic.items(),0):\n",
    "    print(idx,key,value)\n",
    "    if 4 in value: \n",
    "        print('acá está')\n",
    "        break"
   ]
  },
  {
   "cell_type": "code",
   "execution_count": 18,
   "id": "3a1140cc",
   "metadata": {},
   "outputs": [
    {
     "name": "stdout",
     "output_type": "stream",
     "text": [
      "('a',)\n",
      "('b',)\n",
      "('c',)\n",
      "('d',)\n",
      "('e',)\n"
     ]
    }
   ],
   "source": [
    "import re \n",
    "\n",
    "text = 'a 1 b 2 c 4 d 4 e'\n",
    "\n",
    "regex_pattern = re.compile('([a-z])')\n",
    "\n",
    "for match in regex_pattern.finditer(text):\n",
    "    print(match.groups())"
   ]
  },
  {
   "cell_type": "code",
   "execution_count": 19,
   "id": "62b490b7",
   "metadata": {},
   "outputs": [
    {
     "data": {
      "text/plain": [
       "'hi! mundo hi! mundo'"
      ]
     },
     "execution_count": 19,
     "metadata": {},
     "output_type": "execute_result"
    }
   ],
   "source": [
    "'hola mundo hola mundo'.replace('hola','hi!')"
   ]
  }
 ],
 "metadata": {
  "kernelspec": {
   "display_name": "env",
   "language": "python",
   "name": "python3"
  },
  "language_info": {
   "codemirror_mode": {
    "name": "ipython",
    "version": 3
   },
   "file_extension": ".py",
   "mimetype": "text/x-python",
   "name": "python",
   "nbconvert_exporter": "python",
   "pygments_lexer": "ipython3",
   "version": "3.10.12"
  }
 },
 "nbformat": 4,
 "nbformat_minor": 5
}
