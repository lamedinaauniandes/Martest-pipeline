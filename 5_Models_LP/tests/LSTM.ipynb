{
 "cells": [
  {
   "cell_type": "code",
   "execution_count": 1,
   "metadata": {},
   "outputs": [
    {
     "name": "stderr",
     "output_type": "stream",
     "text": [
      "2025-04-04 19:56:12.844412: I tensorflow/core/platform/cpu_feature_guard.cc:193] This TensorFlow binary is optimized with oneAPI Deep Neural Network Library (oneDNN) to use the following CPU instructions in performance-critical operations:  AVX2 AVX512F AVX512_VNNI FMA\n",
      "To enable them in other operations, rebuild TensorFlow with the appropriate compiler flags.\n",
      "2025-04-04 19:56:12.993795: I tensorflow/core/util/port.cc:104] oneDNN custom operations are on. You may see slightly different numerical results due to floating-point round-off errors from different computation orders. To turn them off, set the environment variable `TF_ENABLE_ONEDNN_OPTS=0`.\n",
      "2025-04-04 19:56:13.697189: W tensorflow/compiler/xla/stream_executor/platform/default/dso_loader.cc:64] Could not load dynamic library 'libnvinfer.so.7'; dlerror: libnvinfer.so.7: cannot open shared object file: No such file or directory\n",
      "2025-04-04 19:56:13.697249: W tensorflow/compiler/xla/stream_executor/platform/default/dso_loader.cc:64] Could not load dynamic library 'libnvinfer_plugin.so.7'; dlerror: libnvinfer_plugin.so.7: cannot open shared object file: No such file or directory\n",
      "2025-04-04 19:56:13.697255: W tensorflow/compiler/tf2tensorrt/utils/py_utils.cc:38] TF-TRT Warning: Cannot dlopen some TensorRT libraries. If you would like to use Nvidia GPU with TensorRT, please make sure the missing libraries mentioned above are installed properly.\n"
     ]
    }
   ],
   "source": [
    "import tensorflow as tf \n",
    "number_gpu = 2 \n",
    "tf.config.experimental.set_visible_devices(\n",
    "    tf.config.experimental.list_physical_devices('GPU')[number_gpu],\n",
    "    'GPU'\n",
    ")\n",
    "from tensorflow.keras.preprocessing.text import Tokenizer\n",
    "from tensorflow.keras.preprocessing.sequence import pad_sequences\n",
    "from tensorflow.keras.utils import to_categorical\n",
    "from tensorflow.keras.layers import Embedding,LSTM,Dense,Dropout\n",
    "from tensorflow.keras.models import Sequential\n",
    "\n",
    "import configparser\n",
    "import os \n",
    "from pathlib import Path\n",
    "import pandas as pd\n",
    "import json\n",
    "import re\n",
    "import numpy as np"
   ]
  },
  {
   "cell_type": "code",
   "execution_count": 2,
   "metadata": {},
   "outputs": [
    {
     "data": {
      "text/plain": [
       "['/home/lamedinaa/testing_rl/config.ini']"
      ]
     },
     "execution_count": 2,
     "metadata": {},
     "output_type": "execute_result"
    }
   ],
   "source": [
    "base_dir = Path(os.getcwd()).resolve().parent\n",
    "config = configparser.ConfigParser()\n",
    "config.read(os.path.join(base_dir,'config.ini'))"
   ]
  },
  {
   "cell_type": "code",
   "execution_count": 3,
   "metadata": {},
   "outputs": [
    {
     "name": "stdout",
     "output_type": "stream",
     "text": [
      "/home/lamedinaa/testing_rl/data/4_random_forest_model/datasets/abstract_episodes_trnng_nihal_351905032025.csv\n",
      "/home/lamedinaa/testing_rl/data/2_abstract_classes/abstract_states_trnng_nihal_351905032025.json\n"
     ]
    }
   ],
   "source": [
    "autor = 'nihal'\n",
    "str_ftime = config.get(autor,'strftime_data_file')\n",
    "name_file_abstract_datasets = f\"abstract_episodes_trnng_{autor}_{str_ftime}.csv\"\n",
    "path_abstract_datasets_dir = config.get(autor,'path_abstract_datasets')\n",
    "path_file_abstract_datasets = os.path.join(base_dir,path_abstract_datasets_dir,name_file_abstract_datasets)\n",
    "print(path_file_abstract_datasets)\n",
    "\n",
    "name_file_abstract_states = f'abstract_states_trnng_{autor}_{str_ftime}.json'\n",
    "path_abstract_states_dir = config.get(autor,'path_abstract_states_dir')\n",
    "path_file_abstract_states = os.path.join(base_dir,path_abstract_states_dir,name_file_abstract_states)\n",
    "print(path_file_abstract_states)\n",
    "\n",
    "f = open(path_file_abstract_states,'r')\n",
    "dict_abstract_states = json.load(f)\n",
    "\n",
    "df_abstract_states = pd.read_csv(path_file_abstract_datasets,sep=';')"
   ]
  },
  {
   "cell_type": "code",
   "execution_count": 4,
   "metadata": {},
   "outputs": [
    {
     "name": "stdout",
     "output_type": "stream",
     "text": [
      "['w33 1 w33 1 w6 0 w6 0 w6 1 w6 0 w32 1 w32 0 w32 0 w32 1 w17 0 w17 1 w17 0 w17 1 w1 0 w1 0 w1 1 w1 0 w20 1 w20 0 w20 1 w20 0 w12 1 w12 0 w12 1 w12 0 w10 1 w10 0 w10 0 w10 1 w4 0 w4 1 w4 0 w4 1 w26 0 w26 1 w26 0 w26 1 w15 0 w15 1 w15 0 w15 1 w2 0 w2 0 w2 1 [[-0.20469867 -0.52386    -0.09189483 -0.14490547]] 0 w3 1 w3 0 w3 1 w3 0 w23 1 w23 0 w23 1 w23 0 w35 0 w35 1 w35 0 w35 1 w11 0 w11 1 w11 0 w11 0 w28 1 w28 0 w28 1 w28 0 w8 0 w8 1 w8 0 w8 1 w21 0 w21 1 w21 0 w21 0 w34 1 w34 0 w34 1 w34 0 w31 1 w31 0 w31 0 w31 1 w29 0 w29 1 w29 0 w29 0 w9 1 w9 0 w9 1 w9 0 w19 0 w19 1 w19 0 w19 1 w13 0 w13 1 w13 0 w13 0 w18 1 w18 0 w18 1 w18 0 w7 1 w7 0 w7 1 w7 0 w5 0 w5 1 w5 0 w5 1 w16 0 w16 1 w16 0']\n",
      "[[33, 52, 33, 52, 6, 53, 6, 53, 6, 52, 6, 53, 32, 52, 32, 53, 32, 53, 32, 52, 17, 53, 17, 52, 17, 53, 17, 52, 1, 53, 1, 53, 1, 52, 1, 53, 20, 52, 20, 53, 20, 52, 20, 53, 12, 52, 12, 53, 12, 52, 12, 53, 10, 52, 10, 53, 10, 53, 10, 52, 4, 53, 4, 52, 4, 53, 4, 52, 26, 53, 26, 52, 26, 53, 26, 52, 15, 53, 15, 52, 15, 53, 15, 52, 2, 53, 2, 53, 2, 52, 53, 53, 53, 53, 53, 3, 52, 3, 53, 3, 52, 3, 53, 23, 52, 23, 53, 23, 52, 23, 53, 35, 53, 35, 52, 35, 53, 35, 52, 11, 53, 11, 52, 11, 53, 11, 53, 28, 52, 28, 53, 28, 52, 28, 53, 8, 53, 8, 52, 8, 53, 8, 52, 21, 53, 21, 52, 21, 53, 21, 53, 34, 52, 34, 53, 34, 52, 34, 53, 31, 52, 31, 53, 31, 53, 31, 52, 29, 53, 29, 52, 29, 53, 29, 53, 9, 52, 9, 53, 9, 52, 9, 53, 19, 53, 19, 52, 19, 53, 19, 52, 13, 53, 13, 52, 13, 53, 13, 53, 18, 52, 18, 53, 18, 52, 18, 53, 7, 52, 7, 53, 7, 52, 7, 53, 5, 53, 5, 52, 5, 53, 5, 52, 16, 53, 16, 52, 16, 53]]\n"
     ]
    }
   ],
   "source": [
    "tokenizer = Tokenizer()\n",
    "actions_set = [\"1\",\"0\"]\n",
    "vocabulary = list(dict_abstract_states.keys()) + actions_set\n",
    "\n",
    "tokenizer.word_index = {\n",
    "    f'w{i+1}' if class_abstract in dict_abstract_states.keys() else class_abstract : i + 1 for i,class_abstract in enumerate(vocabulary)}\n",
    "\n",
    "### EJEMPLOR TOKENIZER\n",
    "text = [df_abstract_states['parse_abstract_states'][389]]\n",
    "sequence = tokenizer.texts_to_sequences(text)\n",
    "print(text)\n",
    "print(sequence)"
   ]
  },
  {
   "cell_type": "code",
   "execution_count": 5,
   "metadata": {},
   "outputs": [
    {
     "name": "stdout",
     "output_type": "stream",
     "text": [
      "53 54\n"
     ]
    }
   ],
   "source": [
    "print(len(vocabulary),len(tokenizer.word_index)+1)"
   ]
  },
  {
   "cell_type": "code",
   "execution_count": 6,
   "metadata": {},
   "outputs": [],
   "source": [
    "input_sequences =  []\n",
    "for index,row in df_abstract_states.iterrows():\n",
    "    token_list = tokenizer.texts_to_sequences([row['parse_abstract_states']])[0]\n",
    "    \n",
    "    for i in range(1,len(token_list)):\n",
    "        partial_sequence = token_list[:i+1]\n",
    "        input_sequences.append(partial_sequence)"
   ]
  },
  {
   "cell_type": "code",
   "execution_count": 7,
   "metadata": {},
   "outputs": [],
   "source": [
    "max_sequence_length = max([len(sequence) for sequence in input_sequences])\n",
    "input_sequences = np.array(pad_sequences(\n",
    "    input_sequences, \n",
    "    maxlen=max_sequence_length, \n",
    "    padding='pre'\n",
    "))"
   ]
  },
  {
   "cell_type": "code",
   "execution_count": 8,
   "metadata": {},
   "outputs": [],
   "source": [
    "predictors = input_sequences[:,:-1]\n",
    "labels = input_sequences[:,-1]\n",
    "total_words = len(tokenizer.word_index) + 1\n",
    "labels =  to_categorical(labels,num_classes=total_words)\n",
    "input_len = max_sequence_length -1 "
   ]
  },
  {
   "cell_type": "code",
   "execution_count": 9,
   "metadata": {},
   "outputs": [
    {
     "data": {
      "text/plain": [
       "(390, 7)"
      ]
     },
     "execution_count": 9,
     "metadata": {},
     "output_type": "execute_result"
    }
   ],
   "source": [
    "df_abstract_states.shape"
   ]
  },
  {
   "cell_type": "markdown",
   "metadata": {},
   "source": [
    "# Model LSTM"
   ]
  },
  {
   "cell_type": "code",
   "execution_count": 10,
   "metadata": {},
   "outputs": [
    {
     "data": {
      "text/plain": [
       "54"
      ]
     },
     "execution_count": 10,
     "metadata": {},
     "output_type": "execute_result"
    }
   ],
   "source": [
    "total_words"
   ]
  },
  {
   "cell_type": "code",
   "execution_count": 11,
   "metadata": {},
   "outputs": [
    {
     "name": "stderr",
     "output_type": "stream",
     "text": [
      "2025-04-04 19:57:29.939537: I tensorflow/core/platform/cpu_feature_guard.cc:193] This TensorFlow binary is optimized with oneAPI Deep Neural Network Library (oneDNN) to use the following CPU instructions in performance-critical operations:  AVX2 AVX512F AVX512_VNNI FMA\n",
      "To enable them in other operations, rebuild TensorFlow with the appropriate compiler flags.\n",
      "2025-04-04 19:57:30.610168: I tensorflow/core/common_runtime/gpu/gpu_device.cc:1613] Created device /job:localhost/replica:0/task:0/device:GPU:0 with 43103 MB memory:  -> device: 2, name: NVIDIA A40, pci bus id: 0000:ca:00.0, compute capability: 8.6\n"
     ]
    },
    {
     "name": "stdout",
     "output_type": "stream",
     "text": [
      "Model: \"sequential\"\n",
      "_________________________________________________________________\n",
      " Layer (type)                Output Shape              Param #   \n",
      "=================================================================\n",
      " embedding (Embedding)       (None, 408, 50)           2700      \n",
      "                                                                 \n",
      " lstm (LSTM)                 (None, 100)               60400     \n",
      "                                                                 \n",
      " dropout (Dropout)           (None, 100)               0         \n",
      "                                                                 \n",
      " dense (Dense)               (None, 54)                5454      \n",
      "                                                                 \n",
      "=================================================================\n",
      "Total params: 68,554\n",
      "Trainable params: 68,554\n",
      "Non-trainable params: 0\n",
      "_________________________________________________________________\n"
     ]
    }
   ],
   "source": [
    "model = Sequential()\n",
    "model.add(Embedding(total_words,50,input_length=input_len))\n",
    "model.add(LSTM(100))\n",
    "model.add(Dropout(0.2))\n",
    "model.add(Dense(total_words,activation='softmax'))\n",
    "model.summary()"
   ]
  },
  {
   "cell_type": "code",
   "execution_count": 12,
   "metadata": {},
   "outputs": [],
   "source": [
    "model.compile(loss='categorical_crossentropy',optimizer='adam')"
   ]
  },
  {
   "cell_type": "code",
   "execution_count": 13,
   "metadata": {},
   "outputs": [
    {
     "name": "stdout",
     "output_type": "stream",
     "text": [
      "Epoch 1/5\n"
     ]
    },
    {
     "name": "stderr",
     "output_type": "stream",
     "text": [
      "2025-04-04 19:57:33.762644: I tensorflow/compiler/xla/stream_executor/cuda/cuda_dnn.cc:428] Loaded cuDNN version 8100\n",
      "2025-04-04 19:57:34.516533: I tensorflow/compiler/xla/stream_executor/cuda/cuda_blas.cc:630] TensorFloat-32 will be used for the matrix multiplication. This will only be logged once.\n",
      "2025-04-04 19:57:34.518613: I tensorflow/compiler/xla/service/service.cc:173] XLA service 0x7ef7016fa180 initialized for platform CUDA (this does not guarantee that XLA will be used). Devices:\n",
      "2025-04-04 19:57:34.518631: I tensorflow/compiler/xla/service/service.cc:181]   StreamExecutor device (0): NVIDIA A40, Compute Capability 8.6\n",
      "2025-04-04 19:57:34.523568: I tensorflow/compiler/mlir/tensorflow/utils/dump_mlir_util.cc:268] disabling MLIR crash reproducer, set env var `MLIR_CRASH_REPRODUCER_DIRECTORY` to enable.\n",
      "2025-04-04 19:57:34.599438: I tensorflow/tsl/platform/default/subprocess.cc:304] Start cannot spawn child process: No such file or directory\n",
      "2025-04-04 19:57:34.666541: I tensorflow/compiler/jit/xla_compilation_cache.cc:477] Compiled cluster using XLA!  This line is logged at most once for the lifetime of the process.\n"
     ]
    },
    {
     "name": "stdout",
     "output_type": "stream",
     "text": [
      "2541/2541 [==============================] - 98s 37ms/step - loss: 0.8351\n",
      "Epoch 2/5\n",
      "2541/2541 [==============================] - 90s 36ms/step - loss: 0.3361\n",
      "Epoch 3/5\n",
      "2541/2541 [==============================] - 90s 35ms/step - loss: 0.2904\n",
      "Epoch 4/5\n",
      "2541/2541 [==============================] - 91s 36ms/step - loss: 0.2711\n",
      "Epoch 5/5\n",
      "2541/2541 [==============================] - 90s 36ms/step - loss: 0.2528\n"
     ]
    },
    {
     "data": {
      "text/plain": [
       "<keras.callbacks.History at 0x7f061c031cc0>"
      ]
     },
     "execution_count": 13,
     "metadata": {},
     "output_type": "execute_result"
    }
   ],
   "source": [
    "model.fit(predictors,labels,epochs=5,verbose=1)"
   ]
  },
  {
   "cell_type": "code",
   "execution_count": 14,
   "metadata": {},
   "outputs": [
    {
     "name": "stderr",
     "output_type": "stream",
     "text": [
      "WARNING:absl:Found untraced functions such as lstm_cell_1_layer_call_fn, lstm_cell_1_layer_call_and_return_conditional_losses while saving (showing 2 of 2). These functions will not be directly callable after loading.\n"
     ]
    },
    {
     "name": "stdout",
     "output_type": "stream",
     "text": [
      "INFO:tensorflow:Assets written to: lstm_rl/assets\n"
     ]
    },
    {
     "name": "stderr",
     "output_type": "stream",
     "text": [
      "INFO:tensorflow:Assets written to: lstm_rl/assets\n"
     ]
    }
   ],
   "source": [
    "model.save('lstm_rl')"
   ]
  },
  {
   "cell_type": "markdown",
   "metadata": {},
   "source": [
    "# MODELO"
   ]
  },
  {
   "cell_type": "code",
   "execution_count": 1,
   "metadata": {},
   "outputs": [
    {
     "name": "stderr",
     "output_type": "stream",
     "text": [
      "2025-04-03 19:00:42.089699: I tensorflow/core/platform/cpu_feature_guard.cc:193] This TensorFlow binary is optimized with oneAPI Deep Neural Network Library (oneDNN) to use the following CPU instructions in performance-critical operations:  AVX2 AVX512F AVX512_VNNI FMA\n",
      "To enable them in other operations, rebuild TensorFlow with the appropriate compiler flags.\n",
      "2025-04-03 19:00:42.235721: I tensorflow/core/util/port.cc:104] oneDNN custom operations are on. You may see slightly different numerical results due to floating-point round-off errors from different computation orders. To turn them off, set the environment variable `TF_ENABLE_ONEDNN_OPTS=0`.\n",
      "2025-04-03 19:00:42.964852: W tensorflow/compiler/xla/stream_executor/platform/default/dso_loader.cc:64] Could not load dynamic library 'libnvinfer.so.7'; dlerror: libnvinfer.so.7: cannot open shared object file: No such file or directory\n",
      "2025-04-03 19:00:42.964908: W tensorflow/compiler/xla/stream_executor/platform/default/dso_loader.cc:64] Could not load dynamic library 'libnvinfer_plugin.so.7'; dlerror: libnvinfer_plugin.so.7: cannot open shared object file: No such file or directory\n",
      "2025-04-03 19:00:42.964913: W tensorflow/compiler/tf2tensorrt/utils/py_utils.cc:38] TF-TRT Warning: Cannot dlopen some TensorRT libraries. If you would like to use Nvidia GPU with TensorRT, please make sure the missing libraries mentioned above are installed properly.\n",
      "2025-04-03 19:00:43.986998: I tensorflow/core/platform/cpu_feature_guard.cc:193] This TensorFlow binary is optimized with oneAPI Deep Neural Network Library (oneDNN) to use the following CPU instructions in performance-critical operations:  AVX2 AVX512F AVX512_VNNI FMA\n",
      "To enable them in other operations, rebuild TensorFlow with the appropriate compiler flags.\n",
      "2025-04-03 19:00:44.619502: I tensorflow/core/common_runtime/gpu/gpu_device.cc:1613] Created device /job:localhost/replica:0/task:0/device:GPU:0 with 43103 MB memory:  -> device: 2, name: NVIDIA A40, pci bus id: 0000:ca:00.0, compute capability: 8.6\n"
     ]
    }
   ],
   "source": [
    "import tensorflow as tf\n",
    "number_gpu = 2 \n",
    "tf.config.experimental.set_visible_devices(\n",
    "    tf.config.experimental.list_physical_devices('GPU')[number_gpu],\n",
    "    'GPU',\n",
    ")\n"
   ]
  },
  {
   "cell_type": "code",
   "execution_count": 2,
   "metadata": {},
   "outputs": [],
   "source": [
    "from tensorflow.keras.models import load_model\n",
    "charge_model = load_model('lstm_rl')"
   ]
  },
  {
   "cell_type": "code",
   "execution_count": 3,
   "metadata": {},
   "outputs": [
    {
     "name": "stdout",
     "output_type": "stream",
     "text": [
      "Model: \"sequential_1\"\n",
      "_________________________________________________________________\n",
      " Layer (type)                Output Shape              Param #   \n",
      "=================================================================\n",
      " embedding_1 (Embedding)     (None, 408, 50)           2700      \n",
      "                                                                 \n",
      " lstm_1 (LSTM)               (None, 100)               60400     \n",
      "                                                                 \n",
      " dropout_1 (Dropout)         (None, 100)               0         \n",
      "                                                                 \n",
      " dense_1 (Dense)             (None, 54)                5454      \n",
      "                                                                 \n",
      "=================================================================\n",
      "Total params: 68,554\n",
      "Trainable params: 68,554\n",
      "Non-trainable params: 0\n",
      "_________________________________________________________________\n"
     ]
    }
   ],
   "source": [
    "charge_model.summary()"
   ]
  },
  {
   "cell_type": "code",
   "execution_count": 10,
   "metadata": {},
   "outputs": [
    {
     "name": "stdout",
     "output_type": "stream",
     "text": [
      "408\n"
     ]
    }
   ],
   "source": [
    "input_shape_model = charge_model.layers[0].input_shape[1]\n",
    "\n",
    "print(input_shape_model)"
   ]
  },
  {
   "cell_type": "code",
   "execution_count": 49,
   "metadata": {},
   "outputs": [],
   "source": [
    "from tensorflow.keras.preprocessing.text import Tokenizer\n",
    "from tensorflow.keras.preprocessing.sequence import pad_sequences\n",
    "import configparser\n",
    "import os\n",
    "from pathlib import Path\n",
    "import json\n",
    "import numpy as np"
   ]
  },
  {
   "cell_type": "code",
   "execution_count": 34,
   "metadata": {},
   "outputs": [
    {
     "name": "stdout",
     "output_type": "stream",
     "text": [
      "/home/lamedinaa/testing_rl/data/2_abstract_classes/abstract_states_trnng_nihal_351905032025.json\n"
     ]
    }
   ],
   "source": [
    "base_dir = Path(os.getcwd()).resolve().parent\n",
    "config = configparser.ConfigParser()\n",
    "config.read(os.path.join(base_dir,'config.ini'))\n",
    "\n",
    "autor = 'nihal'\n",
    "str_ftime = config.get(autor,'strftime_data_file')\n",
    "name_file_abstract_states = f'abstract_states_trnng_{autor}_{str_ftime}.json'\n",
    "path_abstract_states_dir = config.get(autor,'path_abstract_states_dir')\n",
    "path_file_abstract_states = os.path.join(base_dir,path_abstract_states_dir,name_file_abstract_states)\n",
    "print(path_file_abstract_states)\n",
    "f = open(path_file_abstract_states,'r')\n",
    "dict_abstract_states = json.load(f)\n",
    "\n",
    "tokenizer = Tokenizer()\n",
    "actions_set = [\"0\",\"1\"]\n",
    "vocabulary = list(dict_abstract_states.keys()) + actions_set\n",
    "tokenizer.word_index = {\n",
    "    f'w{i+1}' if class_abstract in dict_abstract_states.keys() else class_abstract : i + 1 for i,class_abstract in enumerate(vocabulary)}\n",
    "tokenizer.index_word = {value:key for key,value in tokenizer.word_index.items()}"
   ]
  },
  {
   "cell_type": "code",
   "execution_count": 78,
   "metadata": {},
   "outputs": [],
   "source": [
    "def predict_next_token(seed_text): \n",
    "    token_list = tokenizer.texts_to_sequences([seed_text])[0]\n",
    "    token_list = pad_sequences([token_list],input_shape_model,padding='pre')\n",
    "    prediction_list = charge_model.predict(token_list)\n",
    "    prediction = np.argmax(prediction_list,axis=1)\n",
    "    print(f'prediction: {prediction[0]}')\n",
    "    print(f'Probability: {prediction_list[0][prediction[0]]}')\n",
    "    return prediction,prediction_list"
   ]
  },
  {
   "cell_type": "code",
   "execution_count": 121,
   "metadata": {},
   "outputs": [
    {
     "name": "stdout",
     "output_type": "stream",
     "text": [
      "1/1 [==============================] - 0s 36ms/step\n",
      "prediction: 53\n",
      "Probability: 0.966880202293396\n"
     ]
    },
    {
     "data": {
      "text/plain": [
       "array([53])"
      ]
     },
     "execution_count": 121,
     "metadata": {},
     "output_type": "execute_result"
    }
   ],
   "source": [
    "prediction,prediction_list = predict_next_token('w32 0 w32 0 w32 0 w32')\n",
    "prediction"
   ]
  },
  {
   "cell_type": "code",
   "execution_count": 126,
   "metadata": {},
   "outputs": [],
   "source": [
    "def generate_headline(seed_text,next_words=20): \n",
    "    for _ in range(next_words): \n",
    "        prediction,_ = predict_next_token(seed_text)\n",
    "        next_word = tokenizer.sequences_to_texts([prediction])[0]\n",
    "        seed_text += ' '+ next_word \n",
    "        print(seed_text)\n",
    "    return seed_text"
   ]
  },
  {
   "cell_type": "code",
   "execution_count": 127,
   "metadata": {},
   "outputs": [
    {
     "name": "stdout",
     "output_type": "stream",
     "text": [
      "1/1 [==============================] - 0s 43ms/step\n",
      "prediction: 52\n",
      "Probability: 0.9336005449295044\n",
      "w32 0\n",
      "1/1 [==============================] - 0s 27ms/step\n",
      "prediction: 32\n",
      "Probability: 0.8086513876914978\n",
      "w32 0 w32\n",
      "1/1 [==============================] - 0s 26ms/step\n",
      "prediction: 52\n",
      "Probability: 0.8011139631271362\n",
      "w32 0 w32 0\n",
      "1/1 [==============================] - 0s 29ms/step\n",
      "prediction: 32\n",
      "Probability: 0.8328719735145569\n",
      "w32 0 w32 0 w32\n",
      "1/1 [==============================] - 0s 28ms/step\n",
      "prediction: 53\n",
      "Probability: 0.8664010763168335\n",
      "w32 0 w32 0 w32 1\n",
      "1/1 [==============================] - 0s 28ms/step\n",
      "prediction: 32\n",
      "Probability: 0.6403516530990601\n",
      "w32 0 w32 0 w32 1 w32\n",
      "1/1 [==============================] - 0s 28ms/step\n",
      "prediction: 52\n",
      "Probability: 0.5392526984214783\n",
      "w32 0 w32 0 w32 1 w32 0\n",
      "1/1 [==============================] - 0s 28ms/step\n",
      "prediction: 17\n",
      "Probability: 0.6491907835006714\n",
      "w32 0 w32 0 w32 1 w32 0 w17\n",
      "1/1 [==============================] - 0s 27ms/step\n",
      "prediction: 53\n",
      "Probability: 0.9330187439918518\n",
      "w32 0 w32 0 w32 1 w32 0 w17 1\n",
      "1/1 [==============================] - 0s 26ms/step\n",
      "prediction: 17\n",
      "Probability: 0.9970466494560242\n",
      "w32 0 w32 0 w32 1 w32 0 w17 1 w17\n",
      "1/1 [==============================] - 0s 26ms/step\n",
      "prediction: 53\n",
      "Probability: 0.5706315040588379\n",
      "w32 0 w32 0 w32 1 w32 0 w17 1 w17 1\n",
      "1/1 [==============================] - 0s 27ms/step\n",
      "prediction: 17\n",
      "Probability: 0.9989509582519531\n",
      "w32 0 w32 0 w32 1 w32 0 w17 1 w17 1 w17\n",
      "1/1 [==============================] - 0s 27ms/step\n",
      "prediction: 52\n",
      "Probability: 0.875329852104187\n",
      "w32 0 w32 0 w32 1 w32 0 w17 1 w17 1 w17 0\n",
      "1/1 [==============================] - 0s 27ms/step\n",
      "prediction: 17\n",
      "Probability: 0.9845016598701477\n",
      "w32 0 w32 0 w32 1 w32 0 w17 1 w17 1 w17 0 w17\n",
      "1/1 [==============================] - 0s 26ms/step\n",
      "prediction: 53\n",
      "Probability: 0.8698874115943909\n",
      "w32 0 w32 0 w32 1 w32 0 w17 1 w17 1 w17 0 w17 1\n",
      "1/1 [==============================] - 0s 26ms/step\n",
      "prediction: 1\n",
      "Probability: 0.9738518595695496\n",
      "w32 0 w32 0 w32 1 w32 0 w17 1 w17 1 w17 0 w17 1 w1\n",
      "1/1 [==============================] - 0s 26ms/step\n",
      "prediction: 52\n",
      "Probability: 0.8033573031425476\n",
      "w32 0 w32 0 w32 1 w32 0 w17 1 w17 1 w17 0 w17 1 w1 0\n",
      "1/1 [==============================] - 0s 26ms/step\n",
      "prediction: 1\n",
      "Probability: 0.9993377327919006\n",
      "w32 0 w32 0 w32 1 w32 0 w17 1 w17 1 w17 0 w17 1 w1 0 w1\n",
      "1/1 [==============================] - 0s 25ms/step\n",
      "prediction: 53\n",
      "Probability: 0.8948917388916016\n",
      "w32 0 w32 0 w32 1 w32 0 w17 1 w17 1 w17 0 w17 1 w1 0 w1 1\n",
      "1/1 [==============================] - 0s 27ms/step\n",
      "prediction: 1\n",
      "Probability: 0.9993734955787659\n",
      "w32 0 w32 0 w32 1 w32 0 w17 1 w17 1 w17 0 w17 1 w1 0 w1 1 w1\n",
      "1/1 [==============================] - 0s 27ms/step\n",
      "prediction: 52\n",
      "Probability: 0.6739449501037598\n",
      "w32 0 w32 0 w32 1 w32 0 w17 1 w17 1 w17 0 w17 1 w1 0 w1 1 w1 0\n",
      "1/1 [==============================] - 0s 27ms/step\n",
      "prediction: 1\n",
      "Probability: 0.9978729486465454\n",
      "w32 0 w32 0 w32 1 w32 0 w17 1 w17 1 w17 0 w17 1 w1 0 w1 1 w1 0 w1\n",
      "1/1 [==============================] - 0s 26ms/step\n",
      "prediction: 53\n",
      "Probability: 0.9159541726112366\n",
      "w32 0 w32 0 w32 1 w32 0 w17 1 w17 1 w17 0 w17 1 w1 0 w1 1 w1 0 w1 1\n",
      "1/1 [==============================] - 0s 25ms/step\n",
      "prediction: 20\n",
      "Probability: 0.8006629943847656\n",
      "w32 0 w32 0 w32 1 w32 0 w17 1 w17 1 w17 0 w17 1 w1 0 w1 1 w1 0 w1 1 w20\n",
      "1/1 [==============================] - 0s 25ms/step\n",
      "prediction: 52\n",
      "Probability: 0.6271969079971313\n",
      "w32 0 w32 0 w32 1 w32 0 w17 1 w17 1 w17 0 w17 1 w1 0 w1 1 w1 0 w1 1 w20 0\n",
      "1/1 [==============================] - 0s 25ms/step\n",
      "prediction: 20\n",
      "Probability: 0.9984032511711121\n",
      "w32 0 w32 0 w32 1 w32 0 w17 1 w17 1 w17 0 w17 1 w1 0 w1 1 w1 0 w1 1 w20 0 w20\n",
      "1/1 [==============================] - 0s 25ms/step\n",
      "prediction: 53\n",
      "Probability: 0.9125689268112183\n",
      "w32 0 w32 0 w32 1 w32 0 w17 1 w17 1 w17 0 w17 1 w1 0 w1 1 w1 0 w1 1 w20 0 w20 1\n",
      "1/1 [==============================] - 0s 25ms/step\n",
      "prediction: 20\n",
      "Probability: 0.9987636804580688\n",
      "w32 0 w32 0 w32 1 w32 0 w17 1 w17 1 w17 0 w17 1 w1 0 w1 1 w1 0 w1 1 w20 0 w20 1 w20\n",
      "1/1 [==============================] - 0s 26ms/step\n",
      "prediction: 52\n",
      "Probability: 0.5243313312530518\n",
      "w32 0 w32 0 w32 1 w32 0 w17 1 w17 1 w17 0 w17 1 w1 0 w1 1 w1 0 w1 1 w20 0 w20 1 w20 0\n",
      "1/1 [==============================] - 0s 26ms/step\n",
      "prediction: 20\n",
      "Probability: 0.9979183077812195\n",
      "w32 0 w32 0 w32 1 w32 0 w17 1 w17 1 w17 0 w17 1 w1 0 w1 1 w1 0 w1 1 w20 0 w20 1 w20 0 w20\n",
      "1/1 [==============================] - 0s 26ms/step\n",
      "prediction: 53\n",
      "Probability: 0.9338259696960449\n",
      "w32 0 w32 0 w32 1 w32 0 w17 1 w17 1 w17 0 w17 1 w1 0 w1 1 w1 0 w1 1 w20 0 w20 1 w20 0 w20 1\n",
      "1/1 [==============================] - 0s 25ms/step\n",
      "prediction: 12\n",
      "Probability: 0.8840723633766174\n",
      "w32 0 w32 0 w32 1 w32 0 w17 1 w17 1 w17 0 w17 1 w1 0 w1 1 w1 0 w1 1 w20 0 w20 1 w20 0 w20 1 w12\n",
      "1/1 [==============================] - 0s 25ms/step\n",
      "prediction: 52\n",
      "Probability: 0.5481380224227905\n",
      "w32 0 w32 0 w32 1 w32 0 w17 1 w17 1 w17 0 w17 1 w1 0 w1 1 w1 0 w1 1 w20 0 w20 1 w20 0 w20 1 w12 0\n",
      "1/1 [==============================] - 0s 25ms/step\n",
      "prediction: 12\n",
      "Probability: 0.9985973238945007\n",
      "w32 0 w32 0 w32 1 w32 0 w17 1 w17 1 w17 0 w17 1 w1 0 w1 1 w1 0 w1 1 w20 0 w20 1 w20 0 w20 1 w12 0 w12\n",
      "1/1 [==============================] - 0s 25ms/step\n",
      "prediction: 53\n",
      "Probability: 0.9254482388496399\n",
      "w32 0 w32 0 w32 1 w32 0 w17 1 w17 1 w17 0 w17 1 w1 0 w1 1 w1 0 w1 1 w20 0 w20 1 w20 0 w20 1 w12 0 w12 1\n",
      "1/1 [==============================] - 0s 25ms/step\n",
      "prediction: 12\n",
      "Probability: 0.9992207288742065\n",
      "w32 0 w32 0 w32 1 w32 0 w17 1 w17 1 w17 0 w17 1 w1 0 w1 1 w1 0 w1 1 w20 0 w20 1 w20 0 w20 1 w12 0 w12 1 w12\n",
      "1/1 [==============================] - 0s 25ms/step\n",
      "prediction: 52\n",
      "Probability: 0.572307825088501\n",
      "w32 0 w32 0 w32 1 w32 0 w17 1 w17 1 w17 0 w17 1 w1 0 w1 1 w1 0 w1 1 w20 0 w20 1 w20 0 w20 1 w12 0 w12 1 w12 0\n",
      "1/1 [==============================] - 0s 26ms/step\n",
      "prediction: 12\n",
      "Probability: 0.9982190728187561\n",
      "w32 0 w32 0 w32 1 w32 0 w17 1 w17 1 w17 0 w17 1 w1 0 w1 1 w1 0 w1 1 w20 0 w20 1 w20 0 w20 1 w12 0 w12 1 w12 0 w12\n",
      "1/1 [==============================] - 0s 26ms/step\n",
      "prediction: 53\n",
      "Probability: 0.9165225028991699\n",
      "w32 0 w32 0 w32 1 w32 0 w17 1 w17 1 w17 0 w17 1 w1 0 w1 1 w1 0 w1 1 w20 0 w20 1 w20 0 w20 1 w12 0 w12 1 w12 0 w12 1\n",
      "1/1 [==============================] - 0s 25ms/step\n",
      "prediction: 10\n",
      "Probability: 0.980068564414978\n",
      "w32 0 w32 0 w32 1 w32 0 w17 1 w17 1 w17 0 w17 1 w1 0 w1 1 w1 0 w1 1 w20 0 w20 1 w20 0 w20 1 w12 0 w12 1 w12 0 w12 1 w10\n",
      "1/1 [==============================] - 0s 25ms/step\n",
      "prediction: 52\n",
      "Probability: 0.6742973923683167\n",
      "w32 0 w32 0 w32 1 w32 0 w17 1 w17 1 w17 0 w17 1 w1 0 w1 1 w1 0 w1 1 w20 0 w20 1 w20 0 w20 1 w12 0 w12 1 w12 0 w12 1 w10 0\n",
      "1/1 [==============================] - 0s 25ms/step\n",
      "prediction: 10\n",
      "Probability: 0.9995554089546204\n",
      "w32 0 w32 0 w32 1 w32 0 w17 1 w17 1 w17 0 w17 1 w1 0 w1 1 w1 0 w1 1 w20 0 w20 1 w20 0 w20 1 w12 0 w12 1 w12 0 w12 1 w10 0 w10\n",
      "1/1 [==============================] - 0s 25ms/step\n",
      "prediction: 53\n",
      "Probability: 0.8949795961380005\n",
      "w32 0 w32 0 w32 1 w32 0 w17 1 w17 1 w17 0 w17 1 w1 0 w1 1 w1 0 w1 1 w20 0 w20 1 w20 0 w20 1 w12 0 w12 1 w12 0 w12 1 w10 0 w10 1\n",
      "1/1 [==============================] - 0s 25ms/step\n",
      "prediction: 10\n",
      "Probability: 0.999617338180542\n",
      "w32 0 w32 0 w32 1 w32 0 w17 1 w17 1 w17 0 w17 1 w1 0 w1 1 w1 0 w1 1 w20 0 w20 1 w20 0 w20 1 w12 0 w12 1 w12 0 w12 1 w10 0 w10 1 w10\n",
      "1/1 [==============================] - 0s 25ms/step\n",
      "prediction: 52\n",
      "Probability: 0.691184937953949\n",
      "w32 0 w32 0 w32 1 w32 0 w17 1 w17 1 w17 0 w17 1 w1 0 w1 1 w1 0 w1 1 w20 0 w20 1 w20 0 w20 1 w12 0 w12 1 w12 0 w12 1 w10 0 w10 1 w10 0\n",
      "1/1 [==============================] - 0s 26ms/step\n",
      "prediction: 10\n",
      "Probability: 0.9942309856414795\n",
      "w32 0 w32 0 w32 1 w32 0 w17 1 w17 1 w17 0 w17 1 w1 0 w1 1 w1 0 w1 1 w20 0 w20 1 w20 0 w20 1 w12 0 w12 1 w12 0 w12 1 w10 0 w10 1 w10 0 w10\n",
      "1/1 [==============================] - 0s 26ms/step\n",
      "prediction: 53\n",
      "Probability: 0.9027628898620605\n",
      "w32 0 w32 0 w32 1 w32 0 w17 1 w17 1 w17 0 w17 1 w1 0 w1 1 w1 0 w1 1 w20 0 w20 1 w20 0 w20 1 w12 0 w12 1 w12 0 w12 1 w10 0 w10 1 w10 0 w10 1\n",
      "1/1 [==============================] - 0s 25ms/step\n",
      "prediction: 4\n",
      "Probability: 0.9968811273574829\n",
      "w32 0 w32 0 w32 1 w32 0 w17 1 w17 1 w17 0 w17 1 w1 0 w1 1 w1 0 w1 1 w20 0 w20 1 w20 0 w20 1 w12 0 w12 1 w12 0 w12 1 w10 0 w10 1 w10 0 w10 1 w4\n",
      "1/1 [==============================] - 0s 25ms/step\n",
      "prediction: 52\n",
      "Probability: 0.6551323533058167\n",
      "w32 0 w32 0 w32 1 w32 0 w17 1 w17 1 w17 0 w17 1 w1 0 w1 1 w1 0 w1 1 w20 0 w20 1 w20 0 w20 1 w12 0 w12 1 w12 0 w12 1 w10 0 w10 1 w10 0 w10 1 w4 0\n",
      "1/1 [==============================] - 0s 25ms/step\n",
      "prediction: 4\n",
      "Probability: 0.9995775818824768\n",
      "w32 0 w32 0 w32 1 w32 0 w17 1 w17 1 w17 0 w17 1 w1 0 w1 1 w1 0 w1 1 w20 0 w20 1 w20 0 w20 1 w12 0 w12 1 w12 0 w12 1 w10 0 w10 1 w10 0 w10 1 w4 0 w4\n"
     ]
    },
    {
     "data": {
      "text/plain": [
       "'w32 0 w32 0 w32 1 w32 0 w17 1 w17 1 w17 0 w17 1 w1 0 w1 1 w1 0 w1 1 w20 0 w20 1 w20 0 w20 1 w12 0 w12 1 w12 0 w12 1 w10 0 w10 1 w10 0 w10 1 w4 0 w4'"
      ]
     },
     "execution_count": 127,
     "metadata": {},
     "output_type": "execute_result"
    }
   ],
   "source": [
    "generate_headline('w32',next_words=50)\n"
   ]
  },
  {
   "cell_type": "code",
   "execution_count": 128,
   "metadata": {},
   "outputs": [
    {
     "name": "stdout",
     "output_type": "stream",
     "text": [
      "1/1 [==============================] - 0s 33ms/step\n",
      "prediction: 52\n",
      "Probability: 0.9232657551765442\n",
      "w27 0\n",
      "1/1 [==============================] - 0s 25ms/step\n",
      "prediction: 27\n",
      "Probability: 0.7535117268562317\n",
      "w27 0 w27\n",
      "1/1 [==============================] - 0s 25ms/step\n",
      "prediction: 52\n",
      "Probability: 0.8767423629760742\n",
      "w27 0 w27 0\n",
      "1/1 [==============================] - 0s 27ms/step\n",
      "prediction: 27\n",
      "Probability: 0.6493148803710938\n",
      "w27 0 w27 0 w27\n",
      "1/1 [==============================] - 0s 26ms/step\n",
      "prediction: 52\n",
      "Probability: 0.5330126285552979\n",
      "w27 0 w27 0 w27 0\n",
      "1/1 [==============================] - 0s 26ms/step\n",
      "prediction: 22\n",
      "Probability: 0.6317209005355835\n",
      "w27 0 w27 0 w27 0 w22\n",
      "1/1 [==============================] - 0s 33ms/step\n",
      "prediction: 53\n",
      "Probability: 0.8495853543281555\n",
      "w27 0 w27 0 w27 0 w22 1\n",
      "1/1 [==============================] - 0s 25ms/step\n",
      "prediction: 22\n",
      "Probability: 0.9936874508857727\n",
      "w27 0 w27 0 w27 0 w22 1 w22\n",
      "1/1 [==============================] - 0s 25ms/step\n",
      "prediction: 53\n",
      "Probability: 0.7284793853759766\n",
      "w27 0 w27 0 w27 0 w22 1 w22 1\n",
      "1/1 [==============================] - 0s 25ms/step\n",
      "prediction: 22\n",
      "Probability: 0.9976205229759216\n",
      "w27 0 w27 0 w27 0 w22 1 w22 1 w22\n",
      "1/1 [==============================] - 0s 24ms/step\n",
      "prediction: 52\n",
      "Probability: 0.564163863658905\n",
      "w27 0 w27 0 w27 0 w22 1 w22 1 w22 0\n",
      "1/1 [==============================] - 0s 25ms/step\n",
      "prediction: 22\n",
      "Probability: 0.9787744283676147\n",
      "w27 0 w27 0 w27 0 w22 1 w22 1 w22 0 w22\n",
      "1/1 [==============================] - 0s 24ms/step\n",
      "prediction: 53\n",
      "Probability: 0.9486943483352661\n",
      "w27 0 w27 0 w27 0 w22 1 w22 1 w22 0 w22 1\n",
      "1/1 [==============================] - 0s 25ms/step\n",
      "prediction: 25\n",
      "Probability: 0.8841848969459534\n",
      "w27 0 w27 0 w27 0 w22 1 w22 1 w22 0 w22 1 w25\n",
      "1/1 [==============================] - 0s 25ms/step\n",
      "prediction: 52\n",
      "Probability: 0.5092946887016296\n",
      "w27 0 w27 0 w27 0 w22 1 w22 1 w22 0 w22 1 w25 0\n",
      "1/1 [==============================] - 0s 25ms/step\n",
      "prediction: 25\n",
      "Probability: 0.9985837936401367\n",
      "w27 0 w27 0 w27 0 w22 1 w22 1 w22 0 w22 1 w25 0 w25\n",
      "1/1 [==============================] - 0s 25ms/step\n",
      "prediction: 53\n",
      "Probability: 0.9764833450317383\n",
      "w27 0 w27 0 w27 0 w22 1 w22 1 w22 0 w22 1 w25 0 w25 1\n",
      "1/1 [==============================] - 0s 25ms/step\n",
      "prediction: 25\n",
      "Probability: 0.999118983745575\n",
      "w27 0 w27 0 w27 0 w22 1 w22 1 w22 0 w22 1 w25 0 w25 1 w25\n",
      "1/1 [==============================] - 0s 25ms/step\n",
      "prediction: 53\n",
      "Probability: 0.6024913787841797\n",
      "w27 0 w27 0 w27 0 w22 1 w22 1 w22 0 w22 1 w25 0 w25 1 w25 1\n",
      "1/1 [==============================] - 0s 25ms/step\n",
      "prediction: 25\n",
      "Probability: 0.9858472943305969\n",
      "w27 0 w27 0 w27 0 w22 1 w22 1 w22 0 w22 1 w25 0 w25 1 w25 1 w25\n",
      "1/1 [==============================] - 0s 25ms/step\n",
      "prediction: 52\n",
      "Probability: 0.8396780490875244\n",
      "w27 0 w27 0 w27 0 w22 1 w22 1 w22 0 w22 1 w25 0 w25 1 w25 1 w25 0\n",
      "1/1 [==============================] - 0s 25ms/step\n",
      "prediction: 30\n",
      "Probability: 0.5607908368110657\n",
      "w27 0 w27 0 w27 0 w22 1 w22 1 w22 0 w22 1 w25 0 w25 1 w25 1 w25 0 w30\n",
      "1/1 [==============================] - 0s 26ms/step\n",
      "prediction: 53\n",
      "Probability: 0.9440671801567078\n",
      "w27 0 w27 0 w27 0 w22 1 w22 1 w22 0 w22 1 w25 0 w25 1 w25 1 w25 0 w30 1\n",
      "1/1 [==============================] - 0s 30ms/step\n",
      "prediction: 30\n",
      "Probability: 0.9950931072235107\n",
      "w27 0 w27 0 w27 0 w22 1 w22 1 w22 0 w22 1 w25 0 w25 1 w25 1 w25 0 w30 1 w30\n",
      "1/1 [==============================] - 0s 25ms/step\n",
      "prediction: 52\n",
      "Probability: 0.8218421936035156\n",
      "w27 0 w27 0 w27 0 w22 1 w22 1 w22 0 w22 1 w25 0 w25 1 w25 1 w25 0 w30 1 w30 0\n",
      "1/1 [==============================] - 0s 25ms/step\n",
      "prediction: 30\n",
      "Probability: 0.9984570741653442\n",
      "w27 0 w27 0 w27 0 w22 1 w22 1 w22 0 w22 1 w25 0 w25 1 w25 1 w25 0 w30 1 w30 0 w30\n",
      "1/1 [==============================] - 0s 25ms/step\n",
      "prediction: 53\n",
      "Probability: 0.9664530754089355\n",
      "w27 0 w27 0 w27 0 w22 1 w22 1 w22 0 w22 1 w25 0 w25 1 w25 1 w25 0 w30 1 w30 0 w30 1\n",
      "1/1 [==============================] - 0s 25ms/step\n",
      "prediction: 30\n",
      "Probability: 0.9928622841835022\n",
      "w27 0 w27 0 w27 0 w22 1 w22 1 w22 0 w22 1 w25 0 w25 1 w25 1 w25 0 w30 1 w30 0 w30 1 w30\n",
      "1/1 [==============================] - 0s 25ms/step\n",
      "prediction: 52\n",
      "Probability: 0.7576624155044556\n",
      "w27 0 w27 0 w27 0 w22 1 w22 1 w22 0 w22 1 w25 0 w25 1 w25 1 w25 0 w30 1 w30 0 w30 1 w30 0\n",
      "1/1 [==============================] - 0s 25ms/step\n",
      "prediction: 33\n",
      "Probability: 0.7085056900978088\n",
      "w27 0 w27 0 w27 0 w22 1 w22 1 w22 0 w22 1 w25 0 w25 1 w25 1 w25 0 w30 1 w30 0 w30 1 w30 0 w33\n",
      "1/1 [==============================] - 0s 25ms/step\n",
      "prediction: 53\n",
      "Probability: 0.9817577004432678\n",
      "w27 0 w27 0 w27 0 w22 1 w22 1 w22 0 w22 1 w25 0 w25 1 w25 1 w25 0 w30 1 w30 0 w30 1 w30 0 w33 1\n",
      "1/1 [==============================] - 0s 25ms/step\n",
      "prediction: 33\n",
      "Probability: 0.9977920055389404\n",
      "w27 0 w27 0 w27 0 w22 1 w22 1 w22 0 w22 1 w25 0 w25 1 w25 1 w25 0 w30 1 w30 0 w30 1 w30 0 w33 1 w33\n",
      "1/1 [==============================] - 0s 25ms/step\n",
      "prediction: 52\n",
      "Probability: 0.7705013751983643\n",
      "w27 0 w27 0 w27 0 w22 1 w22 1 w22 0 w22 1 w25 0 w25 1 w25 1 w25 0 w30 1 w30 0 w30 1 w30 0 w33 1 w33 0\n",
      "1/1 [==============================] - 0s 25ms/step\n",
      "prediction: 33\n",
      "Probability: 0.998471200466156\n",
      "w27 0 w27 0 w27 0 w22 1 w22 1 w22 0 w22 1 w25 0 w25 1 w25 1 w25 0 w30 1 w30 0 w30 1 w30 0 w33 1 w33 0 w33\n",
      "1/1 [==============================] - 0s 25ms/step\n",
      "prediction: 53\n",
      "Probability: 0.9834676384925842\n",
      "w27 0 w27 0 w27 0 w22 1 w22 1 w22 0 w22 1 w25 0 w25 1 w25 1 w25 0 w30 1 w30 0 w30 1 w30 0 w33 1 w33 0 w33 1\n",
      "1/1 [==============================] - 0s 25ms/step\n",
      "prediction: 33\n",
      "Probability: 0.9901896119117737\n",
      "w27 0 w27 0 w27 0 w22 1 w22 1 w22 0 w22 1 w25 0 w25 1 w25 1 w25 0 w30 1 w30 0 w30 1 w30 0 w33 1 w33 0 w33 1 w33\n",
      "1/1 [==============================] - 0s 25ms/step\n",
      "prediction: 52\n",
      "Probability: 0.7525821924209595\n",
      "w27 0 w27 0 w27 0 w22 1 w22 1 w22 0 w22 1 w25 0 w25 1 w25 1 w25 0 w30 1 w30 0 w30 1 w30 0 w33 1 w33 0 w33 1 w33 0\n",
      "1/1 [==============================] - 0s 25ms/step\n",
      "prediction: 6\n",
      "Probability: 0.8916267156600952\n",
      "w27 0 w27 0 w27 0 w22 1 w22 1 w22 0 w22 1 w25 0 w25 1 w25 1 w25 0 w30 1 w30 0 w30 1 w30 0 w33 1 w33 0 w33 1 w33 0 w6\n",
      "1/1 [==============================] - 0s 25ms/step\n",
      "prediction: 53\n",
      "Probability: 0.9878788590431213\n",
      "w27 0 w27 0 w27 0 w22 1 w22 1 w22 0 w22 1 w25 0 w25 1 w25 1 w25 0 w30 1 w30 0 w30 1 w30 0 w33 1 w33 0 w33 1 w33 0 w6 1\n",
      "1/1 [==============================] - 0s 26ms/step\n",
      "prediction: 6\n",
      "Probability: 0.9922125935554504\n",
      "w27 0 w27 0 w27 0 w22 1 w22 1 w22 0 w22 1 w25 0 w25 1 w25 1 w25 0 w30 1 w30 0 w30 1 w30 0 w33 1 w33 0 w33 1 w33 0 w6 1 w6\n",
      "1/1 [==============================] - 0s 25ms/step\n",
      "prediction: 52\n",
      "Probability: 0.6464245915412903\n",
      "w27 0 w27 0 w27 0 w22 1 w22 1 w22 0 w22 1 w25 0 w25 1 w25 1 w25 0 w30 1 w30 0 w30 1 w30 0 w33 1 w33 0 w33 1 w33 0 w6 1 w6 0\n",
      "1/1 [==============================] - 0s 25ms/step\n",
      "prediction: 6\n",
      "Probability: 0.9976904392242432\n",
      "w27 0 w27 0 w27 0 w22 1 w22 1 w22 0 w22 1 w25 0 w25 1 w25 1 w25 0 w30 1 w30 0 w30 1 w30 0 w33 1 w33 0 w33 1 w33 0 w6 1 w6 0 w6\n",
      "1/1 [==============================] - 0s 25ms/step\n",
      "prediction: 53\n",
      "Probability: 0.98501056432724\n",
      "w27 0 w27 0 w27 0 w22 1 w22 1 w22 0 w22 1 w25 0 w25 1 w25 1 w25 0 w30 1 w30 0 w30 1 w30 0 w33 1 w33 0 w33 1 w33 0 w6 1 w6 0 w6 1\n",
      "1/1 [==============================] - 0s 25ms/step\n",
      "prediction: 6\n",
      "Probability: 0.9866661429405212\n",
      "w27 0 w27 0 w27 0 w22 1 w22 1 w22 0 w22 1 w25 0 w25 1 w25 1 w25 0 w30 1 w30 0 w30 1 w30 0 w33 1 w33 0 w33 1 w33 0 w6 1 w6 0 w6 1 w6\n",
      "1/1 [==============================] - 0s 25ms/step\n",
      "prediction: 52\n",
      "Probability: 0.6002730131149292\n",
      "w27 0 w27 0 w27 0 w22 1 w22 1 w22 0 w22 1 w25 0 w25 1 w25 1 w25 0 w30 1 w30 0 w30 1 w30 0 w33 1 w33 0 w33 1 w33 0 w6 1 w6 0 w6 1 w6 0\n",
      "1/1 [==============================] - 0s 25ms/step\n",
      "prediction: 32\n",
      "Probability: 0.979324996471405\n",
      "w27 0 w27 0 w27 0 w22 1 w22 1 w22 0 w22 1 w25 0 w25 1 w25 1 w25 0 w30 1 w30 0 w30 1 w30 0 w33 1 w33 0 w33 1 w33 0 w6 1 w6 0 w6 1 w6 0 w32\n",
      "1/1 [==============================] - 0s 24ms/step\n",
      "prediction: 53\n",
      "Probability: 0.985346794128418\n",
      "w27 0 w27 0 w27 0 w22 1 w22 1 w22 0 w22 1 w25 0 w25 1 w25 1 w25 0 w30 1 w30 0 w30 1 w30 0 w33 1 w33 0 w33 1 w33 0 w6 1 w6 0 w6 1 w6 0 w32 1\n",
      "1/1 [==============================] - 0s 25ms/step\n",
      "prediction: 32\n",
      "Probability: 0.9983866214752197\n",
      "w27 0 w27 0 w27 0 w22 1 w22 1 w22 0 w22 1 w25 0 w25 1 w25 1 w25 0 w30 1 w30 0 w30 1 w30 0 w33 1 w33 0 w33 1 w33 0 w6 1 w6 0 w6 1 w6 0 w32 1 w32\n",
      "1/1 [==============================] - 0s 26ms/step\n",
      "prediction: 52\n",
      "Probability: 0.5790546536445618\n",
      "w27 0 w27 0 w27 0 w22 1 w22 1 w22 0 w22 1 w25 0 w25 1 w25 1 w25 0 w30 1 w30 0 w30 1 w30 0 w33 1 w33 0 w33 1 w33 0 w6 1 w6 0 w6 1 w6 0 w32 1 w32 0\n",
      "1/1 [==============================] - 0s 25ms/step\n",
      "prediction: 32\n",
      "Probability: 0.9981865286827087\n",
      "w27 0 w27 0 w27 0 w22 1 w22 1 w22 0 w22 1 w25 0 w25 1 w25 1 w25 0 w30 1 w30 0 w30 1 w30 0 w33 1 w33 0 w33 1 w33 0 w6 1 w6 0 w6 1 w6 0 w32 1 w32 0 w32\n"
     ]
    },
    {
     "data": {
      "text/plain": [
       "'w27 0 w27 0 w27 0 w22 1 w22 1 w22 0 w22 1 w25 0 w25 1 w25 1 w25 0 w30 1 w30 0 w30 1 w30 0 w33 1 w33 0 w33 1 w33 0 w6 1 w6 0 w6 1 w6 0 w32 1 w32 0 w32'"
      ]
     },
     "execution_count": 128,
     "metadata": {},
     "output_type": "execute_result"
    }
   ],
   "source": [
    "generate_headline('w27',next_words=50)"
   ]
  },
  {
   "cell_type": "code",
   "execution_count": null,
   "metadata": {},
   "outputs": [],
   "source": []
  },
  {
   "cell_type": "code",
   "execution_count": null,
   "metadata": {},
   "outputs": [],
   "source": []
  }
 ],
 "metadata": {
  "kernelspec": {
   "display_name": "env",
   "language": "python",
   "name": "python3"
  },
  "language_info": {
   "codemirror_mode": {
    "name": "ipython",
    "version": 3
   },
   "file_extension": ".py",
   "mimetype": "text/x-python",
   "name": "python",
   "nbconvert_exporter": "python",
   "pygments_lexer": "ipython3",
   "version": "3.10.12"
  }
 },
 "nbformat": 4,
 "nbformat_minor": 2
}
